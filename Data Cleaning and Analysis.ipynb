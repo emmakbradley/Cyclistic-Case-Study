{
 "cells": [
  {
   "cell_type": "markdown",
   "id": "215230cb",
   "metadata": {},
   "source": [
    "# Cyclistic Case Study: Data Cleaning and Analysis"
   ]
  },
  {
   "cell_type": "code",
   "execution_count": 2,
   "id": "7fab7472",
   "metadata": {},
   "outputs": [],
   "source": [
    "# the usual imports\n",
    "import numpy as np\n",
    "import pandas as pd\n",
    "import regex as re\n",
    "import seaborn as sns\n",
    "import matplotlib.pyplot as plt\n",
    "import glob\n",
    "import os"
   ]
  },
  {
   "cell_type": "code",
   "execution_count": 15,
   "id": "c0e3c654",
   "metadata": {},
   "outputs": [],
   "source": [
    "# merging the files\n",
    "joined_files = os.path.join(\"/Users/emmabradley/Desktop/cyclistic_data\", \"divvy-tripdata-*.csv\")\n",
    "  \n",
    "# get a list of all joined files\n",
    "joined_list = glob.glob(joined_files)\n",
    "  \n",
    "# finally join the files\n",
    "df = pd.concat(map(pd.read_csv, joined_list), ignore_index=True)"
   ]
  },
  {
   "cell_type": "code",
   "execution_count": 17,
   "id": "3e9acafa",
   "metadata": {},
   "outputs": [
    {
     "name": "stdout",
     "output_type": "stream",
     "text": [
      "                  ride_id  rideable_type           started_at  \\\n",
      "0        65DBD2F447EC51C2  electric_bike  2022-12-05 10:47:18   \n",
      "1        0C201AA7EA0EA1AD   classic_bike  2022-12-18 06:42:33   \n",
      "2        E0B148CCB358A49D  electric_bike  2022-12-13 08:47:45   \n",
      "3        54C5775D2B7C9188   classic_bike  2022-12-13 18:50:47   \n",
      "4        A4891F78776D35DF   classic_bike  2022-12-14 16:13:39   \n",
      "...                   ...            ...                  ...   \n",
      "4966373  EC17BE8AB1D73C88  electric_bike  2022-08-12 08:28:26   \n",
      "4966374  57BAC0EA3A067A83  electric_bike  2022-08-22 12:30:19   \n",
      "4966375  9B97FAE30276C299  electric_bike  2022-08-09 07:43:31   \n",
      "4966376  2B4A9BA1E9AA9B51  electric_bike  2022-08-24 14:31:58   \n",
      "4966377  7F0D048AC7C3B81A  electric_bike  2022-08-24 09:45:04   \n",
      "\n",
      "                    ended_at            start_station_name start_station_id  \\\n",
      "0        2022-12-05 10:56:34    Clifton Ave & Armitage Ave     TA1307000163   \n",
      "1        2022-12-18 07:08:44        Broadway & Belmont Ave            13277   \n",
      "2        2022-12-13 08:59:51         Sangamon St & Lake St     TA1306000015   \n",
      "3        2022-12-13 19:19:48         Shields Ave & 31st St     KA1503000038   \n",
      "4        2022-12-14 16:27:50     Ashland Ave & Chicago Ave            13247   \n",
      "...                      ...                           ...              ...   \n",
      "4966373  2022-08-12 08:42:26     Paulina St & Montrose Ave     TA1309000021   \n",
      "4966374  2022-08-22 12:36:32      California Ave & 21st St            13096   \n",
      "4966375  2022-08-09 07:50:50  Clinton St & Washington Blvd           WL-012   \n",
      "4966376  2022-08-24 14:40:32  Ashland Ave & Wellington Ave            13269   \n",
      "4966377  2022-08-24 09:45:19        Clark St & Lincoln Ave            13179   \n",
      "\n",
      "                  end_station_name end_station_id  start_lat  start_lng  \\\n",
      "0        Sedgwick St & Webster Ave          13191  41.918244 -87.657115   \n",
      "1        Sedgwick St & Webster Ave          13191  41.940106 -87.645451   \n",
      "2           St. Clair St & Erie St          13016  41.885919 -87.651133   \n",
      "3           Damen Ave & Madison St          13134  41.838464 -87.635406   \n",
      "4        Damen Ave & Charleston St          13288  41.895954 -87.667728   \n",
      "...                            ...            ...        ...        ...   \n",
      "4966373                        NaN            NaN  41.961563 -87.671431   \n",
      "4966374                        NaN            NaN  41.853754 -87.695806   \n",
      "4966375                        NaN            NaN  41.883404 -87.641222   \n",
      "4966376                        NaN            NaN  41.936081 -87.669896   \n",
      "4966377                        NaN            NaN  41.915784 -87.634676   \n",
      "\n",
      "           end_lat    end_lng member_casual  \n",
      "0        41.922167 -87.638888        member  \n",
      "1        41.922167 -87.638888        casual  \n",
      "2        41.894345 -87.622798        member  \n",
      "3        41.881370 -87.674930        member  \n",
      "4        41.920082 -87.677855        casual  \n",
      "...            ...        ...           ...  \n",
      "4966373  41.940000 -87.640000        member  \n",
      "4966374  41.840000 -87.690000        member  \n",
      "4966375  41.890000 -87.660000        member  \n",
      "4966376  41.930000 -87.640000        member  \n",
      "4966377  41.920000 -87.630000        member  \n",
      "\n",
      "[4966378 rows x 13 columns]\n"
     ]
    }
   ],
   "source": [
    "print(df)"
   ]
  },
  {
   "cell_type": "code",
   "execution_count": null,
   "id": "af522861",
   "metadata": {},
   "outputs": [],
   "source": []
  }
 ],
 "metadata": {
  "kernelspec": {
   "display_name": "Python 3 (ipykernel)",
   "language": "python",
   "name": "python3"
  },
  "language_info": {
   "codemirror_mode": {
    "name": "ipython",
    "version": 3
   },
   "file_extension": ".py",
   "mimetype": "text/x-python",
   "name": "python",
   "nbconvert_exporter": "python",
   "pygments_lexer": "ipython3",
   "version": "3.9.7"
  }
 },
 "nbformat": 4,
 "nbformat_minor": 5
}

{
 "cells": [
  {
   "cell_type": "markdown",
   "id": "215230cb",
   "metadata": {},
   "source": [
    "# Cyclistic Case Study: Data Cleaning and Analysis\n",
    "\n",
    "Hello and welcome to the Jupyter Notebook where all the magic happens! ;)\n",
    "\n",
    "Below I have provided the Python code that I used to clean and manipulate the Cyclistic data for analysis."
   ]
  },
  {
   "cell_type": "code",
   "execution_count": 1,
   "id": "7fab7472",
   "metadata": {},
   "outputs": [],
   "source": [
    "# the usual imports\n",
    "import numpy as np\n",
    "import pandas as pd\n",
    "import seaborn as sns\n",
    "import matplotlib.pyplot as plt\n",
    "import glob\n",
    "import os"
   ]
  },
  {
   "cell_type": "markdown",
   "id": "4bb56aae",
   "metadata": {},
   "source": [
    "## Read in the Data\n",
    "Since this report is being produced in 2023, I decided to use the company's historical data from 2022. The dataset therefore spans from January 1st, 2022 to December 31st, 2022. This will allow us to identify trends in how customers utilize Cyclistic's bikes over the course of a year."
   ]
  },
  {
   "cell_type": "code",
   "execution_count": 2,
   "id": "c0e3c654",
   "metadata": {},
   "outputs": [],
   "source": [
    "# merging the files\n",
    "joined_files = os.path.join(\"/Users/emmabradley/Desktop/cyclistic_data\", \"divvy-tripdata-*.csv\")\n",
    "  \n",
    "# get a list of all joined files\n",
    "joined_list = glob.glob(joined_files)\n",
    "  \n",
    "# finally join the files\n",
    "my_df = pd.concat(map(pd.read_csv, joined_list), ignore_index=True)"
   ]
  },
  {
   "cell_type": "markdown",
   "id": "950768b6",
   "metadata": {},
   "source": [
    "## Data Cleaning\n",
    "Let's start by making a copy of our original dataset. This is a good practice as it will allow us to manipulate the copied data while retaining the original, unedited dataset. \n",
    "\n",
    "Additionally, let's take a look at the columns that this dataset contains! We see that each row of the data represents an actual ride that a customer took. For each ride, we have information pertaining to the type of bike they chose, where and when their ride started and ended, as well as whether or not they are an annual or casual member of Cyclistic."
   ]
  },
  {
   "cell_type": "code",
   "execution_count": 3,
   "id": "3e9acafa",
   "metadata": {
    "scrolled": false
   },
   "outputs": [
    {
     "data": {
      "text/html": [
       "<div>\n",
       "<style scoped>\n",
       "    .dataframe tbody tr th:only-of-type {\n",
       "        vertical-align: middle;\n",
       "    }\n",
       "\n",
       "    .dataframe tbody tr th {\n",
       "        vertical-align: top;\n",
       "    }\n",
       "\n",
       "    .dataframe thead th {\n",
       "        text-align: right;\n",
       "    }\n",
       "</style>\n",
       "<table border=\"1\" class=\"dataframe\">\n",
       "  <thead>\n",
       "    <tr style=\"text-align: right;\">\n",
       "      <th></th>\n",
       "      <th>ride_id</th>\n",
       "      <th>rideable_type</th>\n",
       "      <th>started_at</th>\n",
       "      <th>ended_at</th>\n",
       "      <th>start_station_name</th>\n",
       "      <th>start_station_id</th>\n",
       "      <th>end_station_name</th>\n",
       "      <th>end_station_id</th>\n",
       "      <th>start_lat</th>\n",
       "      <th>start_lng</th>\n",
       "      <th>end_lat</th>\n",
       "      <th>end_lng</th>\n",
       "      <th>member_casual</th>\n",
       "    </tr>\n",
       "  </thead>\n",
       "  <tbody>\n",
       "    <tr>\n",
       "      <th>0</th>\n",
       "      <td>65DBD2F447EC51C2</td>\n",
       "      <td>electric_bike</td>\n",
       "      <td>2022-12-05 10:47:18</td>\n",
       "      <td>2022-12-05 10:56:34</td>\n",
       "      <td>Clifton Ave &amp; Armitage Ave</td>\n",
       "      <td>TA1307000163</td>\n",
       "      <td>Sedgwick St &amp; Webster Ave</td>\n",
       "      <td>13191</td>\n",
       "      <td>41.918244</td>\n",
       "      <td>-87.657115</td>\n",
       "      <td>41.922167</td>\n",
       "      <td>-87.638888</td>\n",
       "      <td>member</td>\n",
       "    </tr>\n",
       "    <tr>\n",
       "      <th>1</th>\n",
       "      <td>0C201AA7EA0EA1AD</td>\n",
       "      <td>classic_bike</td>\n",
       "      <td>2022-12-18 06:42:33</td>\n",
       "      <td>2022-12-18 07:08:44</td>\n",
       "      <td>Broadway &amp; Belmont Ave</td>\n",
       "      <td>13277</td>\n",
       "      <td>Sedgwick St &amp; Webster Ave</td>\n",
       "      <td>13191</td>\n",
       "      <td>41.940106</td>\n",
       "      <td>-87.645451</td>\n",
       "      <td>41.922167</td>\n",
       "      <td>-87.638888</td>\n",
       "      <td>casual</td>\n",
       "    </tr>\n",
       "    <tr>\n",
       "      <th>2</th>\n",
       "      <td>E0B148CCB358A49D</td>\n",
       "      <td>electric_bike</td>\n",
       "      <td>2022-12-13 08:47:45</td>\n",
       "      <td>2022-12-13 08:59:51</td>\n",
       "      <td>Sangamon St &amp; Lake St</td>\n",
       "      <td>TA1306000015</td>\n",
       "      <td>St. Clair St &amp; Erie St</td>\n",
       "      <td>13016</td>\n",
       "      <td>41.885919</td>\n",
       "      <td>-87.651133</td>\n",
       "      <td>41.894345</td>\n",
       "      <td>-87.622798</td>\n",
       "      <td>member</td>\n",
       "    </tr>\n",
       "    <tr>\n",
       "      <th>3</th>\n",
       "      <td>54C5775D2B7C9188</td>\n",
       "      <td>classic_bike</td>\n",
       "      <td>2022-12-13 18:50:47</td>\n",
       "      <td>2022-12-13 19:19:48</td>\n",
       "      <td>Shields Ave &amp; 31st St</td>\n",
       "      <td>KA1503000038</td>\n",
       "      <td>Damen Ave &amp; Madison St</td>\n",
       "      <td>13134</td>\n",
       "      <td>41.838464</td>\n",
       "      <td>-87.635406</td>\n",
       "      <td>41.881370</td>\n",
       "      <td>-87.674930</td>\n",
       "      <td>member</td>\n",
       "    </tr>\n",
       "    <tr>\n",
       "      <th>4</th>\n",
       "      <td>A4891F78776D35DF</td>\n",
       "      <td>classic_bike</td>\n",
       "      <td>2022-12-14 16:13:39</td>\n",
       "      <td>2022-12-14 16:27:50</td>\n",
       "      <td>Ashland Ave &amp; Chicago Ave</td>\n",
       "      <td>13247</td>\n",
       "      <td>Damen Ave &amp; Charleston St</td>\n",
       "      <td>13288</td>\n",
       "      <td>41.895954</td>\n",
       "      <td>-87.667728</td>\n",
       "      <td>41.920082</td>\n",
       "      <td>-87.677855</td>\n",
       "      <td>casual</td>\n",
       "    </tr>\n",
       "  </tbody>\n",
       "</table>\n",
       "</div>"
      ],
      "text/plain": [
       "            ride_id  rideable_type           started_at             ended_at  \\\n",
       "0  65DBD2F447EC51C2  electric_bike  2022-12-05 10:47:18  2022-12-05 10:56:34   \n",
       "1  0C201AA7EA0EA1AD   classic_bike  2022-12-18 06:42:33  2022-12-18 07:08:44   \n",
       "2  E0B148CCB358A49D  electric_bike  2022-12-13 08:47:45  2022-12-13 08:59:51   \n",
       "3  54C5775D2B7C9188   classic_bike  2022-12-13 18:50:47  2022-12-13 19:19:48   \n",
       "4  A4891F78776D35DF   classic_bike  2022-12-14 16:13:39  2022-12-14 16:27:50   \n",
       "\n",
       "           start_station_name start_station_id           end_station_name  \\\n",
       "0  Clifton Ave & Armitage Ave     TA1307000163  Sedgwick St & Webster Ave   \n",
       "1      Broadway & Belmont Ave            13277  Sedgwick St & Webster Ave   \n",
       "2       Sangamon St & Lake St     TA1306000015     St. Clair St & Erie St   \n",
       "3       Shields Ave & 31st St     KA1503000038     Damen Ave & Madison St   \n",
       "4   Ashland Ave & Chicago Ave            13247  Damen Ave & Charleston St   \n",
       "\n",
       "  end_station_id  start_lat  start_lng    end_lat    end_lng member_casual  \n",
       "0          13191  41.918244 -87.657115  41.922167 -87.638888        member  \n",
       "1          13191  41.940106 -87.645451  41.922167 -87.638888        casual  \n",
       "2          13016  41.885919 -87.651133  41.894345 -87.622798        member  \n",
       "3          13134  41.838464 -87.635406  41.881370 -87.674930        member  \n",
       "4          13288  41.895954 -87.667728  41.920082 -87.677855        casual  "
      ]
     },
     "execution_count": 3,
     "metadata": {},
     "output_type": "execute_result"
    }
   ],
   "source": [
    "# make a copy of the dataset \n",
    "df = my_df\n",
    "\n",
    "# check columns\n",
    "df.head()"
   ]
  },
  {
   "cell_type": "markdown",
   "id": "3edaf979",
   "metadata": {},
   "source": [
    "### Data Types\n",
    "\n",
    "First, let's go ahead and double check that all of the datatypes are what we expect them to be. "
   ]
  },
  {
   "cell_type": "code",
   "execution_count": 4,
   "id": "ef4ba2a8",
   "metadata": {},
   "outputs": [
    {
     "name": "stdout",
     "output_type": "stream",
     "text": [
      "<class 'pandas.core.frame.DataFrame'>\n",
      "RangeIndex: 5667717 entries, 0 to 5667716\n",
      "Data columns (total 13 columns):\n",
      " #   Column              Dtype  \n",
      "---  ------              -----  \n",
      " 0   ride_id             object \n",
      " 1   rideable_type       object \n",
      " 2   started_at          object \n",
      " 3   ended_at            object \n",
      " 4   start_station_name  object \n",
      " 5   start_station_id    object \n",
      " 6   end_station_name    object \n",
      " 7   end_station_id      object \n",
      " 8   start_lat           float64\n",
      " 9   start_lng           float64\n",
      " 10  end_lat             float64\n",
      " 11  end_lng             float64\n",
      " 12  member_casual       object \n",
      "dtypes: float64(4), object(9)\n",
      "memory usage: 562.1+ MB\n"
     ]
    },
    {
     "data": {
      "text/html": [
       "<div>\n",
       "<style scoped>\n",
       "    .dataframe tbody tr th:only-of-type {\n",
       "        vertical-align: middle;\n",
       "    }\n",
       "\n",
       "    .dataframe tbody tr th {\n",
       "        vertical-align: top;\n",
       "    }\n",
       "\n",
       "    .dataframe thead th {\n",
       "        text-align: right;\n",
       "    }\n",
       "</style>\n",
       "<table border=\"1\" class=\"dataframe\">\n",
       "  <thead>\n",
       "    <tr style=\"text-align: right;\">\n",
       "      <th></th>\n",
       "      <th>start_lat</th>\n",
       "      <th>start_lng</th>\n",
       "      <th>end_lat</th>\n",
       "      <th>end_lng</th>\n",
       "    </tr>\n",
       "  </thead>\n",
       "  <tbody>\n",
       "    <tr>\n",
       "      <th>count</th>\n",
       "      <td>5.667717e+06</td>\n",
       "      <td>5.667717e+06</td>\n",
       "      <td>5.661859e+06</td>\n",
       "      <td>5.661859e+06</td>\n",
       "    </tr>\n",
       "    <tr>\n",
       "      <th>mean</th>\n",
       "      <td>4.190222e+01</td>\n",
       "      <td>-8.764783e+01</td>\n",
       "      <td>4.190242e+01</td>\n",
       "      <td>-8.764790e+01</td>\n",
       "    </tr>\n",
       "    <tr>\n",
       "      <th>std</th>\n",
       "      <td>4.626109e-02</td>\n",
       "      <td>2.999925e-02</td>\n",
       "      <td>6.805821e-02</td>\n",
       "      <td>1.082985e-01</td>\n",
       "    </tr>\n",
       "    <tr>\n",
       "      <th>min</th>\n",
       "      <td>4.164000e+01</td>\n",
       "      <td>-8.784000e+01</td>\n",
       "      <td>0.000000e+00</td>\n",
       "      <td>-8.814000e+01</td>\n",
       "    </tr>\n",
       "    <tr>\n",
       "      <th>25%</th>\n",
       "      <td>4.188103e+01</td>\n",
       "      <td>-8.766154e+01</td>\n",
       "      <td>4.188103e+01</td>\n",
       "      <td>-8.766260e+01</td>\n",
       "    </tr>\n",
       "    <tr>\n",
       "      <th>50%</th>\n",
       "      <td>4.190000e+01</td>\n",
       "      <td>-8.764410e+01</td>\n",
       "      <td>4.190000e+01</td>\n",
       "      <td>-8.764414e+01</td>\n",
       "    </tr>\n",
       "    <tr>\n",
       "      <th>75%</th>\n",
       "      <td>4.193000e+01</td>\n",
       "      <td>-8.762957e+01</td>\n",
       "      <td>4.193000e+01</td>\n",
       "      <td>-8.762963e+01</td>\n",
       "    </tr>\n",
       "    <tr>\n",
       "      <th>max</th>\n",
       "      <td>4.563503e+01</td>\n",
       "      <td>-7.379648e+01</td>\n",
       "      <td>4.237000e+01</td>\n",
       "      <td>0.000000e+00</td>\n",
       "    </tr>\n",
       "  </tbody>\n",
       "</table>\n",
       "</div>"
      ],
      "text/plain": [
       "          start_lat     start_lng       end_lat       end_lng\n",
       "count  5.667717e+06  5.667717e+06  5.661859e+06  5.661859e+06\n",
       "mean   4.190222e+01 -8.764783e+01  4.190242e+01 -8.764790e+01\n",
       "std    4.626109e-02  2.999925e-02  6.805821e-02  1.082985e-01\n",
       "min    4.164000e+01 -8.784000e+01  0.000000e+00 -8.814000e+01\n",
       "25%    4.188103e+01 -8.766154e+01  4.188103e+01 -8.766260e+01\n",
       "50%    4.190000e+01 -8.764410e+01  4.190000e+01 -8.764414e+01\n",
       "75%    4.193000e+01 -8.762957e+01  4.193000e+01 -8.762963e+01\n",
       "max    4.563503e+01 -7.379648e+01  4.237000e+01  0.000000e+00"
      ]
     },
     "execution_count": 4,
     "metadata": {},
     "output_type": "execute_result"
    }
   ],
   "source": [
    "# check column data types\n",
    "df.info()\n",
    "\n",
    "# get a summary of the data\n",
    "df.describe()"
   ]
  },
  {
   "cell_type": "markdown",
   "id": "3d366bea",
   "metadata": {},
   "source": [
    "### Missing Values\n",
    "\n",
    "We should also check for missing values as this will impact our analysis. The function below counts exactly how many missing values there are in each column."
   ]
  },
  {
   "cell_type": "code",
   "execution_count": 5,
   "id": "fed96a5c",
   "metadata": {},
   "outputs": [
    {
     "data": {
      "text/plain": [
       "ride_id                    0\n",
       "rideable_type              0\n",
       "started_at                 0\n",
       "ended_at                   0\n",
       "start_station_name    833064\n",
       "start_station_id      833064\n",
       "end_station_name      892742\n",
       "end_station_id        892742\n",
       "start_lat                  0\n",
       "start_lng                  0\n",
       "end_lat                 5858\n",
       "end_lng                 5858\n",
       "member_casual              0\n",
       "dtype: int64"
      ]
     },
     "execution_count": 5,
     "metadata": {},
     "output_type": "execute_result"
    }
   ],
   "source": [
    "df.isnull().sum()"
   ]
  },
  {
   "cell_type": "markdown",
   "id": "7c2bbdf9",
   "metadata": {},
   "source": [
    "We find that there are quite a few missing values in the columns pertaining to the station names as well as the latitudes and longitudes. Since these columns aren't central to our analysis, we will go ahead and drop them from our dataset."
   ]
  },
  {
   "cell_type": "code",
   "execution_count": 6,
   "id": "c15fae9f",
   "metadata": {},
   "outputs": [
    {
     "data": {
      "text/html": [
       "<div>\n",
       "<style scoped>\n",
       "    .dataframe tbody tr th:only-of-type {\n",
       "        vertical-align: middle;\n",
       "    }\n",
       "\n",
       "    .dataframe tbody tr th {\n",
       "        vertical-align: top;\n",
       "    }\n",
       "\n",
       "    .dataframe thead th {\n",
       "        text-align: right;\n",
       "    }\n",
       "</style>\n",
       "<table border=\"1\" class=\"dataframe\">\n",
       "  <thead>\n",
       "    <tr style=\"text-align: right;\">\n",
       "      <th></th>\n",
       "      <th>ride_id</th>\n",
       "      <th>rideable_type</th>\n",
       "      <th>started_at</th>\n",
       "      <th>ended_at</th>\n",
       "      <th>member_casual</th>\n",
       "    </tr>\n",
       "  </thead>\n",
       "  <tbody>\n",
       "    <tr>\n",
       "      <th>0</th>\n",
       "      <td>65DBD2F447EC51C2</td>\n",
       "      <td>electric_bike</td>\n",
       "      <td>2022-12-05 10:47:18</td>\n",
       "      <td>2022-12-05 10:56:34</td>\n",
       "      <td>member</td>\n",
       "    </tr>\n",
       "    <tr>\n",
       "      <th>1</th>\n",
       "      <td>0C201AA7EA0EA1AD</td>\n",
       "      <td>classic_bike</td>\n",
       "      <td>2022-12-18 06:42:33</td>\n",
       "      <td>2022-12-18 07:08:44</td>\n",
       "      <td>casual</td>\n",
       "    </tr>\n",
       "    <tr>\n",
       "      <th>2</th>\n",
       "      <td>E0B148CCB358A49D</td>\n",
       "      <td>electric_bike</td>\n",
       "      <td>2022-12-13 08:47:45</td>\n",
       "      <td>2022-12-13 08:59:51</td>\n",
       "      <td>member</td>\n",
       "    </tr>\n",
       "    <tr>\n",
       "      <th>3</th>\n",
       "      <td>54C5775D2B7C9188</td>\n",
       "      <td>classic_bike</td>\n",
       "      <td>2022-12-13 18:50:47</td>\n",
       "      <td>2022-12-13 19:19:48</td>\n",
       "      <td>member</td>\n",
       "    </tr>\n",
       "    <tr>\n",
       "      <th>4</th>\n",
       "      <td>A4891F78776D35DF</td>\n",
       "      <td>classic_bike</td>\n",
       "      <td>2022-12-14 16:13:39</td>\n",
       "      <td>2022-12-14 16:27:50</td>\n",
       "      <td>casual</td>\n",
       "    </tr>\n",
       "  </tbody>\n",
       "</table>\n",
       "</div>"
      ],
      "text/plain": [
       "            ride_id  rideable_type           started_at             ended_at  \\\n",
       "0  65DBD2F447EC51C2  electric_bike  2022-12-05 10:47:18  2022-12-05 10:56:34   \n",
       "1  0C201AA7EA0EA1AD   classic_bike  2022-12-18 06:42:33  2022-12-18 07:08:44   \n",
       "2  E0B148CCB358A49D  electric_bike  2022-12-13 08:47:45  2022-12-13 08:59:51   \n",
       "3  54C5775D2B7C9188   classic_bike  2022-12-13 18:50:47  2022-12-13 19:19:48   \n",
       "4  A4891F78776D35DF   classic_bike  2022-12-14 16:13:39  2022-12-14 16:27:50   \n",
       "\n",
       "  member_casual  \n",
       "0        member  \n",
       "1        casual  \n",
       "2        member  \n",
       "3        member  \n",
       "4        casual  "
      ]
     },
     "execution_count": 6,
     "metadata": {},
     "output_type": "execute_result"
    }
   ],
   "source": [
    "# drop unnecessary columns\n",
    "df = my_df.drop(columns = ['start_lat', 'start_lng', 'end_lat', 'end_lng', \n",
    "                           'start_station_name', 'start_station_id', 'end_station_name', 'end_station_id'])\n",
    "\n",
    "# view dataset\n",
    "df.head()"
   ]
  },
  {
   "cell_type": "markdown",
   "id": "7350eeb1",
   "metadata": {},
   "source": [
    "### Calculating Ride Length\n",
    "Since it will be ueful in our analysis, we will go ahead and calculate the ride length of each entry in the dataset. To do so, we will first need to convert our 'start_time' and 'end_time' columns into the datetime format so that we can use the assocated functions.\n",
    "\n",
    "Additionally, there are some rides in the dataset that have a negative or zero value. This is because these bikes were taken out of circulation for Quality Control reasons and they don't represent actual rides taken by Cyclistic customers. We will go ahead and delete all of these rides."
   ]
  },
  {
   "cell_type": "code",
   "execution_count": 7,
   "id": "af522861",
   "metadata": {},
   "outputs": [],
   "source": [
    "# convert dates and times to the datetime format\n",
    "end = pd.to_datetime(df['ended_at'])\n",
    "start = pd.to_datetime(df['started_at'])\n",
    "\n",
    "# calculate ride length in minutes\n",
    "df['ride_length'] = (end - start).dt.total_seconds().div(60)\n",
    "\n",
    "# remove rides with a negative or zero ride_length\n",
    "df = df[df['ride_length'] > 0]"
   ]
  },
  {
   "cell_type": "markdown",
   "id": "0e80e27d",
   "metadata": {},
   "source": [
    "### Day of the Week & Month\n",
    "Since we are interested in how annual and casual members of Cyclistic are using the bikes, it would be helpful if we had columns indicating the day of the week as well as the month of the year that each ride took place. To determine this, we will use the 'start_time' column to extract the dates."
   ]
  },
  {
   "cell_type": "code",
   "execution_count": 8,
   "id": "707a2312",
   "metadata": {},
   "outputs": [
    {
     "data": {
      "text/html": [
       "<div>\n",
       "<style scoped>\n",
       "    .dataframe tbody tr th:only-of-type {\n",
       "        vertical-align: middle;\n",
       "    }\n",
       "\n",
       "    .dataframe tbody tr th {\n",
       "        vertical-align: top;\n",
       "    }\n",
       "\n",
       "    .dataframe thead th {\n",
       "        text-align: right;\n",
       "    }\n",
       "</style>\n",
       "<table border=\"1\" class=\"dataframe\">\n",
       "  <thead>\n",
       "    <tr style=\"text-align: right;\">\n",
       "      <th></th>\n",
       "      <th>ride_id</th>\n",
       "      <th>rideable_type</th>\n",
       "      <th>started_at</th>\n",
       "      <th>ended_at</th>\n",
       "      <th>member_casual</th>\n",
       "      <th>ride_length</th>\n",
       "      <th>day_of_week</th>\n",
       "      <th>month</th>\n",
       "    </tr>\n",
       "  </thead>\n",
       "  <tbody>\n",
       "    <tr>\n",
       "      <th>0</th>\n",
       "      <td>65DBD2F447EC51C2</td>\n",
       "      <td>electric_bike</td>\n",
       "      <td>2022-12-05 10:47:18</td>\n",
       "      <td>2022-12-05 10:56:34</td>\n",
       "      <td>member</td>\n",
       "      <td>9.266667</td>\n",
       "      <td>Monday</td>\n",
       "      <td>December</td>\n",
       "    </tr>\n",
       "    <tr>\n",
       "      <th>1</th>\n",
       "      <td>0C201AA7EA0EA1AD</td>\n",
       "      <td>classic_bike</td>\n",
       "      <td>2022-12-18 06:42:33</td>\n",
       "      <td>2022-12-18 07:08:44</td>\n",
       "      <td>casual</td>\n",
       "      <td>26.183333</td>\n",
       "      <td>Sunday</td>\n",
       "      <td>December</td>\n",
       "    </tr>\n",
       "    <tr>\n",
       "      <th>2</th>\n",
       "      <td>E0B148CCB358A49D</td>\n",
       "      <td>electric_bike</td>\n",
       "      <td>2022-12-13 08:47:45</td>\n",
       "      <td>2022-12-13 08:59:51</td>\n",
       "      <td>member</td>\n",
       "      <td>12.100000</td>\n",
       "      <td>Tuesday</td>\n",
       "      <td>December</td>\n",
       "    </tr>\n",
       "    <tr>\n",
       "      <th>3</th>\n",
       "      <td>54C5775D2B7C9188</td>\n",
       "      <td>classic_bike</td>\n",
       "      <td>2022-12-13 18:50:47</td>\n",
       "      <td>2022-12-13 19:19:48</td>\n",
       "      <td>member</td>\n",
       "      <td>29.016667</td>\n",
       "      <td>Tuesday</td>\n",
       "      <td>December</td>\n",
       "    </tr>\n",
       "    <tr>\n",
       "      <th>4</th>\n",
       "      <td>A4891F78776D35DF</td>\n",
       "      <td>classic_bike</td>\n",
       "      <td>2022-12-14 16:13:39</td>\n",
       "      <td>2022-12-14 16:27:50</td>\n",
       "      <td>casual</td>\n",
       "      <td>14.183333</td>\n",
       "      <td>Wednesday</td>\n",
       "      <td>December</td>\n",
       "    </tr>\n",
       "  </tbody>\n",
       "</table>\n",
       "</div>"
      ],
      "text/plain": [
       "            ride_id  rideable_type           started_at             ended_at  \\\n",
       "0  65DBD2F447EC51C2  electric_bike  2022-12-05 10:47:18  2022-12-05 10:56:34   \n",
       "1  0C201AA7EA0EA1AD   classic_bike  2022-12-18 06:42:33  2022-12-18 07:08:44   \n",
       "2  E0B148CCB358A49D  electric_bike  2022-12-13 08:47:45  2022-12-13 08:59:51   \n",
       "3  54C5775D2B7C9188   classic_bike  2022-12-13 18:50:47  2022-12-13 19:19:48   \n",
       "4  A4891F78776D35DF   classic_bike  2022-12-14 16:13:39  2022-12-14 16:27:50   \n",
       "\n",
       "  member_casual  ride_length day_of_week     month  \n",
       "0        member     9.266667      Monday  December  \n",
       "1        casual    26.183333      Sunday  December  \n",
       "2        member    12.100000     Tuesday  December  \n",
       "3        member    29.016667     Tuesday  December  \n",
       "4        casual    14.183333   Wednesday  December  "
      ]
     },
     "execution_count": 8,
     "metadata": {},
     "output_type": "execute_result"
    }
   ],
   "source": [
    "# determine day of week\n",
    "df['day_of_week'] = start.dt.day_name()\n",
    "\n",
    "# determine month\n",
    "df['month'] = start.dt.month_name()\n",
    "\n",
    "# view dataset\n",
    "df.head()"
   ]
  },
  {
   "cell_type": "markdown",
   "id": "8e194a1c",
   "metadata": {},
   "source": [
    "### Check for Duplicates\n",
    "\n",
    "Since each ride is represented by a unique ride_id, there should be no duplicates in this column."
   ]
  },
  {
   "cell_type": "code",
   "execution_count": 9,
   "id": "d79c423f",
   "metadata": {},
   "outputs": [
    {
     "data": {
      "text/plain": [
       "0"
      ]
     },
     "execution_count": 9,
     "metadata": {},
     "output_type": "execute_result"
    }
   ],
   "source": [
    "sum(df['ride_id'].duplicated())"
   ]
  },
  {
   "cell_type": "markdown",
   "id": "fbd840af",
   "metadata": {},
   "source": [
    "### Categorical Data and Typos\n",
    "\n",
    "There are a few columns in our dataframe that are categorical. Let's double check that there aren't any typos in any of these columns by printing the unique values."
   ]
  },
  {
   "cell_type": "code",
   "execution_count": 10,
   "id": "7e770f78",
   "metadata": {},
   "outputs": [
    {
     "name": "stdout",
     "output_type": "stream",
     "text": [
      "['electric_bike' 'classic_bike' 'docked_bike']\n",
      "['member' 'casual']\n"
     ]
    }
   ],
   "source": [
    "for col in ['rideable_type', 'member_casual']:\n",
    "    print(df[col].unique())"
   ]
  },
  {
   "cell_type": "markdown",
   "id": "e8438a5b",
   "metadata": {},
   "source": [
    "### Summary Statistics\n",
    "\n",
    "To get a better feel for our data, let's take a look at the summary statistics.\n",
    "\n",
    "Upon first glance, we see that the average ride that a casual rider takes is over twice as long as that of an annual member. Additionally, the standard deviation of the casual rides is significantly greater than the standard deviation of the member rides indicating that the spread of the casual rider data is significantly greater than the spread of the annual member data."
   ]
  },
  {
   "cell_type": "code",
   "execution_count": 11,
   "id": "9161617b",
   "metadata": {
    "scrolled": true
   },
   "outputs": [
    {
     "name": "stdout",
     "output_type": "stream",
     "text": [
      "Annual Member Ride Length Statistics (mins): \n",
      "count   3345417.0\n",
      "mean         12.7\n",
      "std          28.8\n",
      "min           0.0\n",
      "25%           5.1\n",
      "50%           8.8\n",
      "75%          15.3\n",
      "max        1559.9\n",
      "Name: ride_length, dtype: float64\n",
      "\n",
      "Casual Rider Ride Length Statistics (mins): \n",
      "count   2321769.0\n",
      "mean         29.1\n",
      "std         272.6\n",
      "min           0.0\n",
      "25%           7.3\n",
      "50%          13.0\n",
      "75%          24.1\n",
      "max       41387.2\n",
      "Name: ride_length, dtype: float64\n"
     ]
    }
   ],
   "source": [
    "# formatting\n",
    "pd.set_option('display.float_format', lambda x: '%.1f' % x)\n",
    "\n",
    "# summary statistics\n",
    "print('Annual Member Ride Length Statistics (mins): ')\n",
    "print(df['ride_length'][df['member_casual'] == 'member'].describe())\n",
    "\n",
    "print('\\n' + 'Casual Rider Ride Length Statistics (mins): ')\n",
    "print(df['ride_length'][df['member_casual'] == 'casual'].describe())"
   ]
  },
  {
   "cell_type": "markdown",
   "id": "b6c6b806",
   "metadata": {},
   "source": [
    "### Outliers\n",
    "\n",
    "An outlier is defined as any data point outside the range of 1.5 times the IQR (Interquartile Range) below the 25th percentile or above the 75th percentile. We will go ahead and check for outliers in the 'ride_length' column of our dataset."
   ]
  },
  {
   "cell_type": "code",
   "execution_count": 14,
   "id": "e472d8a7",
   "metadata": {},
   "outputs": [
    {
     "name": "stdout",
     "output_type": "stream",
     "text": [
      "46        86.8\n",
      "150       70.7\n",
      "162       38.4\n",
      "183       33.8\n",
      "190       32.6\n",
      "          ... \n",
      "5667604   34.6\n",
      "5667610   61.6\n",
      "5667615   40.9\n",
      "5667620   75.0\n",
      "5667632   36.2\n",
      "Name: ride_length, Length: 202527, dtype: float64\n"
     ]
    }
   ],
   "source": [
    "members = df['ride_length'][df['member_casual'] == 'member']\n",
    "\n",
    "Q1 = members.quantile(0.25)\n",
    "Q3 = members.quantile(0.75)\n",
    "IQR = Q3 - Q1\n",
    "\n",
    "# identify outliers\n",
    "threshold = 1.5\n",
    "outliers = members[(df['ride_length'] < Q1 - threshold * IQR) | (df['ride_length'] > Q3 + threshold * IQR)]\n",
    "\n",
    "print(outliers)"
   ]
  },
  {
   "cell_type": "code",
   "execution_count": 15,
   "id": "26a5bf02",
   "metadata": {},
   "outputs": [
    {
     "data": {
      "text/plain": [
       "88         174.0\n",
       "855        422.4\n",
       "983        177.5\n",
       "995         84.9\n",
       "1128       209.9\n",
       "           ...  \n",
       "5667671     53.3\n",
       "5667687     50.7\n",
       "5667689     63.5\n",
       "5667696   1499.9\n",
       "5667700     55.0\n",
       "Name: ride_length, Length: 202299, dtype: float64"
      ]
     },
     "execution_count": 15,
     "metadata": {},
     "output_type": "execute_result"
    }
   ],
   "source": [
    "casual = df['ride_length'][df['member_casual'] == 'casual']\n",
    "\n",
    "Q1 = casual.quantile(0.25)\n",
    "Q3 = casual.quantile(0.75)\n",
    "IQR = Q3 - Q1\n",
    "\n",
    "# identify outliers\n",
    "threshold = 1.5\n",
    "outliers = casual[(df['ride_length'] < Q1 - threshold * IQR) | (df['ride_length'] > Q3 + threshold * IQR)]\n",
    "outliers"
   ]
  },
  {
   "cell_type": "code",
   "execution_count": 16,
   "id": "688ab9b1",
   "metadata": {},
   "outputs": [
    {
     "data": {
      "text/plain": [
       "<AxesSubplot:title={'center':'ride_length'}, xlabel='member_casual'>"
      ]
     },
     "execution_count": 16,
     "metadata": {},
     "output_type": "execute_result"
    },
    {
     "data": {
      "image/png": "[encoded data removed]",
      "text/plain": [
       "<Figure size 720x576 with 1 Axes>"
      ]
     },
     "metadata": {
      "needs_background": "light"
     },
     "output_type": "display_data"
    }
   ],
   "source": [
    "fig, ax = plt.subplots(figsize=(10,8))\n",
    "df.boxplot(column=['ride_length'], by='member_casual', ax=ax)"
   ]
  },
  {
   "cell_type": "code",
   "execution_count": 17,
   "id": "33873c31",
   "metadata": {},
   "outputs": [
    {
     "data": {
      "image/png": "[encoded data removed]",
      "text/plain": [
       "<Figure size 1008x432 with 2 Axes>"
      ]
     },
     "metadata": {
      "needs_background": "light"
     },
     "output_type": "display_data"
    }
   ],
   "source": [
    "# set order\n",
    "month_order = pd.CategoricalDtype(categories=['January', 'February', 'March', 'April', 'May',\n",
    "                                             'June', 'July', 'August', 'September',\n",
    "                                             'October', 'November', 'December'], ordered=True)\n",
    "df['month'] = df['month'].astype(month_order)\n",
    "\n",
    "# compute statistics\n",
    "grouped = df.groupby(['month', 'member_casual'])['ride_length'].mean()\n",
    "grouped1 = df.groupby(['month', 'member_casual'])['ride_length'].median()\n",
    "\n",
    "# plot\n",
    "fig, (ax1,ax2) = plt.subplots(1,2,figsize=(18,6))\n",
    "ax1 = grouped.unstack().plot(kind='bar', \n",
    "                       ax = ax1,\n",
    "                       title='Mean Ride Time by Month',\n",
    "                       xlabel = 'Month',\n",
    "                       ylabel = 'Mean Ride Time (minutes)',\n",
    "                       figsize = (14,6),\n",
    "                       fontsize = 10,\n",
    "                       rot = 60,\n",
    "                       color = {'teal', 'orange'}\n",
    "                      )\n",
    "plt.ylim(0,60)\n",
    "\n",
    "ax2 = grouped1.unstack().plot(kind='bar', \n",
    "                       ax = ax2,\n",
    "                       title='Median Ride Time by Month',\n",
    "                       xlabel = 'Month',\n",
    "                       ylabel = 'Median Ride Time (minutes)',\n",
    "                       figsize = (14,6),\n",
    "                       fontsize = 10,\n",
    "                       rot = 60,\n",
    "                       color = {'teal', 'orange'}\n",
    "                      )\n",
    "\n",
    "# format legend\n",
    "ax1.legend(loc='upper right', \n",
    "           bbox_to_anchor=(1, 1),\n",
    "           title = 'Member Type',\n",
    "           fontsize = 9)\n",
    "\n",
    "\n",
    "ax2.legend(loc='upper right', \n",
    "           bbox_to_anchor=(1, 1), \n",
    "           title = 'Member Type', \n",
    "           fontsize = 9)\n",
    "\n",
    "# display\n",
    "plt.show()"
   ]
  },
  {
   "cell_type": "code",
   "execution_count": 19,
   "id": "ebee9e4c",
   "metadata": {
    "scrolled": true
   },
   "outputs": [
    {
     "data": {
      "image/png": "[encoded data removed]",
      "text/plain": [
       "<Figure size 1008x432 with 2 Axes>"
      ]
     },
     "metadata": {
      "needs_background": "light"
     },
     "output_type": "display_data"
    }
   ],
   "source": [
    "# set order\n",
    "day_order = pd.CategoricalDtype(categories=['Monday', 'Tuesday', 'Wednesday', 'Thursday', 'Friday',\n",
    "                                             'Saturday', 'Sunday'], ordered=True)\n",
    "df['day_of_week'] = df['day_of_week'].astype(day_order)\n",
    "\n",
    "# compute statistics\n",
    "grouped1 = df.groupby(['day_of_week', 'member_casual'])['ride_length'].mean()\n",
    "grouped2 = df.groupby(['day_of_week', 'member_casual'])['ride_length'].median()\n",
    "\n",
    "# plot\n",
    "fig, (ax1,ax2) = plt.subplots(1,2,figsize=(18,6))\n",
    "\n",
    "ax1 = grouped1.unstack().plot(kind='bar', \n",
    "                              ax = ax1,\n",
    "                       title='Mean Ride Time by Day of the Week',\n",
    "                       xlabel = 'Day of the Week',\n",
    "                       ylabel = 'Median Ride Time (minutes)',\n",
    "                       figsize = (14,6),\n",
    "                       fontsize = 9,\n",
    "                       rot = 45,\n",
    "                       color = {'teal', 'orange'}\n",
    "                      )\n",
    "\n",
    "ax2 = grouped2.unstack().plot(kind='bar', \n",
    "                              ax = ax2,\n",
    "                       title='Median Ride Time by Day of the Week',\n",
    "                       xlabel = 'Day of the Week',\n",
    "                       ylabel = 'Median Ride Time (minutes)',\n",
    "                       figsize = (14,6),\n",
    "                       fontsize = 9,\n",
    "                       rot = 45,\n",
    "                       color = {'teal', 'orange'}\n",
    "                      )\n",
    "plt.ylim(0,70)\n",
    "\n",
    "# format legend\n",
    "ax1.legend(loc='upper left', \n",
    "           bbox_to_anchor=(0, 1),\n",
    "           title = 'Member Type', \n",
    "           fontsize = 9)\n",
    "\n",
    "\n",
    "ax2.legend(loc='upper left', \n",
    "           bbox_to_anchor=(0, 1), \n",
    "           title = 'Member Type', \n",
    "           fontsize = 9)\n",
    "\n",
    "# display\n",
    "plt.show()"
   ]
  },
  {
   "cell_type": "code",
   "execution_count": 18,
   "id": "a1b1d01f",
   "metadata": {},
   "outputs": [
    {
     "data": {
      "image/png": "[encoded data removed]",
      "text/plain": [
       "<Figure size 720x720 with 2 Axes>"
      ]
     },
     "metadata": {},
     "output_type": "display_data"
    }
   ],
   "source": [
    "pie1 = df[df['member_casual'] == 'member'][['member_casual', 'rideable_type']]\n",
    "pie2 = df[df['member_casual'] == 'casual'][['member_casual', 'rideable_type']]\n",
    "                                            \n",
    "fig, (ax1,ax2) = plt.subplots(1,2,figsize=(18,6))\n",
    "\n",
    "labels = ['classic_bike', 'electric_bike', 'docked_bike']\n",
    "\n",
    "colours = {'classic_bike': 'orange',\n",
    "           'electric_bike': 'teal',\n",
    "           'docked_bike': 'yellow'}\n",
    "\n",
    "\n",
    "pie1.groupby('rideable_type')['rideable_type'].count().plot.pie(figsize = (10,10),\n",
    "                                                               title = 'Bikes Ridden by Annual Members',\n",
    "                                                               fontsize = 10,\n",
    "                                                               ax = ax1,\n",
    "                                                               autopct='%1.2f%%',\n",
    "                                                               labels = labels,\n",
    "                                                               ylabel = ' ',\n",
    "                                                               shadow = True,\n",
    "                                                               colors=[colours[key] for key in labels])\n",
    "\n",
    "pie2.groupby('rideable_type')['rideable_type'].count().plot.pie(figsize = (10,10),\n",
    "                                                               title = 'Bikes Ridden by Casual Riders',\n",
    "                                                               fontsize = 10,\n",
    "                                                               ax = ax2,\n",
    "                                                               autopct='%1.2f%%',\n",
    "                                                               labels = labels,\n",
    "                                                               ylabel = ' ',\n",
    "                                                               shadow = True,\n",
    "                                                               colors=[colours[key] for key in labels])\n",
    "\n",
    "# display\n",
    "plt.show()"
   ]
  },
  {
   "cell_type": "code",
   "execution_count": null,
   "id": "59014bbc",
   "metadata": {},
   "outputs": [],
   "source": [
    "# add box plot\n",
    "# add frequency description"
   ]
  }
 ],
 "metadata": {
  "kernelspec": {
   "display_name": "Python 3 (ipykernel)",
   "language": "python",
   "name": "python3"
  },
  "language_info": {
   "codemirror_mode": {
    "name": "ipython",
    "version": 3
   },
   "file_extension": ".py",
   "mimetype": "text/x-python",
   "name": "python",
   "nbconvert_exporter": "python",
   "pygments_lexer": "ipython3",
   "version": "3.9.7"
  }
 },
 "nbformat": 4,
 "nbformat_minor": 5
}
